{
 "cells": [
  {
   "cell_type": "markdown",
   "metadata": {},
   "source": [
    "TEST NOTES"
   ]
  },
  {
   "cell_type": "code",
   "execution_count": 17,
   "metadata": {},
   "outputs": [],
   "source": [
    "import matplotlib.pyplot as plt\n",
    "import numpy as np\n",
    "import pandas as pd\n",
    "import seaborn as sns"
   ]
  },
  {
   "cell_type": "markdown",
   "metadata": {},
   "source": [
    "Formatting"
   ]
  },
  {
   "cell_type": "code",
   "execution_count": 19,
   "metadata": {},
   "outputs": [
    {
     "name": "stdout",
     "output_type": "stream",
     "text": [
      "Mag = 109.9868109.99\n",
      "Mag = 109.987 109.99\n"
     ]
    }
   ],
   "source": [
    "mag = 109.9868\n",
    "rmag = np.round(mag,2)\n",
    "print(f'Mag = {mag}{rmag}')\n",
    "print('Mag = %.3f'%mag,'%4.2f'%mag)"
   ]
  },
  {
   "cell_type": "markdown",
   "metadata": {},
   "source": [
    "Loops"
   ]
  },
  {
   "cell_type": "code",
   "execution_count": null,
   "metadata": {},
   "outputs": [],
   "source": [
    "for i in range(11):  #i = 0 to 10\n",
    "    print(i)         \n",
    "i=0\n",
    "while i <11:\n",
    "    print(i)\n",
    "    i+=1x"
   ]
  },
  {
   "cell_type": "code",
   "execution_count": null,
   "metadata": {},
   "outputs": [],
   "source": [
    "range(start, end, step)\n",
    "np."
   ]
  },
  {
   "cell_type": "code",
   "execution_count": 28,
   "metadata": {},
   "outputs": [
    {
     "name": "stdout",
     "output_type": "stream",
     "text": [
      "[6, 5, 4, 3, 2]\n"
     ]
    }
   ],
   "source": [
    "new = [n for n in range(6,1,-1)]\n",
    "print(new)"
   ]
  },
  {
   "cell_type": "markdown",
   "metadata": {},
   "source": [
    "Getting input"
   ]
  },
  {
   "cell_type": "code",
   "execution_count": 30,
   "metadata": {
    "scrolled": true
   },
   "outputs": [
    {
     "name": "stdout",
     "output_type": "stream",
     "text": [
      "Number:1\n"
     ]
    }
   ],
   "source": [
    "num = int(input('Number:'))"
   ]
  },
  {
   "cell_type": "markdown",
   "metadata": {},
   "source": [
    "Lists"
   ]
  },
  {
   "cell_type": "code",
   "execution_count": 206,
   "metadata": {
    "scrolled": false
   },
   "outputs": [
    {
     "name": "stdout",
     "output_type": "stream",
     "text": [
      "['ham', 'cheese', 'lettuce']\n",
      "3\n",
      "[1, 1, 5, 8, 8, 9, 2, 4, 1, 34]\n",
      "2\n",
      "[1, 1, 5, 12, 8, 9, 2, 4, 1, 34]\n",
      "[6, 5, 4, 3, 2]\n",
      "['h', 'e', 'l', 'l', 'o']\n",
      "[]\n",
      "3\n",
      "[1, 1, 1, 2, 4, 5, 8, 9, 12, 34]\n",
      "[34, 12, 9, 8, 5, 4, 2, 1, 1, 1]\n",
      "34 1 77\n",
      "[[2, 24], [1]]\n",
      "[1, 1, 1, 2, 4, 5, 8, 9, 12, 34]\n",
      "[1, 1]\n"
     ]
    },
    {
     "data": {
      "text/plain": [
       "list"
      ]
     },
     "execution_count": 206,
     "metadata": {},
     "output_type": "execute_result"
    }
   ],
   "source": [
    "numbers = [1,1,5,8,8,9,2,4,1,34,5]\n",
    "fruits = ['ham', 'cheese']\n",
    "hello = ['h']\n",
    "new = [n for n in range(6,1,-1)]  \n",
    "fruits.append('lettuce')\n",
    "numbers.pop()            # or put a number an index number to remove \n",
    "hello.extend(['e','l'])\n",
    "hello = hello + ['l','o'] # adds to the end of the list\n",
    "nested = [[2,24],[1]]\n",
    "\n",
    "print(fruits)\n",
    "print (len(fruits))\n",
    "print(numbers)\n",
    "print (numbers.index(5,2,4)) # returns the index of #5 between indexes 2-4\n",
    "numbers.insert(4,12)     # at index 4 insert 12 permanently into list \n",
    "numbers.remove(8)        # will remove the first 8 permanently from list\n",
    "print (numbers)\n",
    "print(new)\n",
    "print(hello)\n",
    "hello.clear()            # clears list\n",
    "print(hello)\n",
    "print(numbers.count(1))  # counts how many 1's are in the list\n",
    "numbers.sort()           # changes the list by sortingthem, put \"reverse = True\"\n",
    "print(numbers)\n",
    "print(sorted(numbers, reverse=True))   # temporarilly sorted\n",
    "print(max(numbers), min(numbers), sum(numbers))\n",
    "print(nested)\n",
    "print(numbers)\n",
    "print(numbers[1:3:1])   # from index 1 to 3 (doesn't include 4th index)\n",
    "type(numbers)           # list"
   ]
  },
  {
   "cell_type": "markdown",
   "metadata": {},
   "source": [
    "Arrays"
   ]
  },
  {
   "cell_type": "code",
   "execution_count": 204,
   "metadata": {
    "scrolled": true
   },
   "outputs": [
    {
     "data": {
      "text/plain": [
       "dtype('int64')"
      ]
     },
     "execution_count": 204,
     "metadata": {},
     "output_type": "execute_result"
    }
   ],
   "source": [
    "start = 0\n",
    "stop = 20\n",
    "step = 2\n",
    "rows = 2\n",
    "columns = 4\n",
    "matrix_size = 3\n",
    "num_points = 8\n",
    "array = np.arange(start, stop, step)  #array([ 0,  2,  4,  6,  8, 10, 12, 14, 16, 18])\n",
    "np.linspace(start, stop, num_points)\n",
    "    #  array([ 0.        ,  2.85714286,  5.71428571,  8.57142857, 11.42857143,\n",
    "    #         14.28571429, 17.14285714, 20.        ])\n",
    "np.logspace(start, stop, num_points)\n",
    "    #  array([1.00000000e+00, 7.19685673e+02, 5.17947468e+05, 3.72759372e+08,\n",
    "    #         2.68269580e+11, 1.93069773e+14, 1.38949549e+17, 1.00000000e+20])\n",
    "np.zeros(4)                   # array of 4 zeroes\n",
    "np.zeros((rows,columns))      # array([[0., 0., 0., 0.],\n",
    "                              #        [0., 0., 0., 0.]])\n",
    "np.ones(5)                    # array([1., 1., 1., 1., 1.])\n",
    "np.eye(matrix_size)           # identity matrix\n",
    "np.logspace(1, 2, 2)       \n",
    "array_reshaped = array.reshape(5,2) # changes array to 5 rows 2 columns but not premanently\n",
    "array.shape                   # returns the shape of the array\n",
    "np.max(array_reshaped), array.max() # both will return the max  in the array\n",
    "np.min(array_reshaped), array.min() # both will return the max  in the array\n",
    "np.argmax(array_reshaped), np.argmin(array)  # will return the index of max/min in array\n",
    "array_reshaped                #  [[ 0  2]\n",
    "                              #   [ 4  6]\n",
    "                              #   [ 8 10]\n",
    "                              #   [12 14]\n",
    "                              #   [16 18]]\n",
    "array_reshaped.sum(axis=0)    # sums the elements in the columns: [40 50]\n",
    "array_reshaped.sum(axis=1)    # sums the elements in the rows: [ 2 10 18 26 34]\n",
    "\n",
    "array[2:5:1]      # [4 6 8]\n",
    "array[array>3]    # array([ 4,  6,  8, 10, 12, 14, 16, 18])\n",
    "array_copy = array.copy()  # array([ 0,  2,  4,  6,  8, 10, 12, 14, 16, 18])\n",
    "slice_of_array = array[2:4]   # array([4, 6])\n",
    "slice_of_array[:]=200     # slice_of_array = array([200, 200])\n",
    "                          #  but also changes original \n",
    "                          #  array([  0,   2, 200, 200,   8,  10,  12,  14,  16,  18])\n",
    "array_2 = np.random.randint(1,10, [6,5])\n",
    "array_2[:3, 2:]           # row: beginning to 2, column: 2 to the end\n",
    "type(array)    # numpy.ndarray\n",
    "array.dtype    # dtype('int64')"
   ]
  },
  {
   "cell_type": "code",
   "execution_count": 81,
   "metadata": {},
   "outputs": [
    {
     "name": "stdout",
     "output_type": "stream",
     "text": [
      "2099 2345\n"
     ]
    }
   ],
   "source": [
    "# Dictionary\n",
    "tel = {'jack':2099}\n",
    "# Tuple\n",
    "tup=(122449,2345)\n",
    "print(tel['jack'], tup[1])\n"
   ]
  },
  {
   "cell_type": "markdown",
   "metadata": {},
   "source": [
    "Functions"
   ]
  },
  {
   "cell_type": "code",
   "execution_count": 89,
   "metadata": {},
   "outputs": [
    {
     "name": "stdout",
     "output_type": "stream",
     "text": [
      "10 16 16\n"
     ]
    }
   ],
   "source": [
    "lst = [1,4,5,6]\n",
    "def sum_finder(*args):    # if you don't know the number of variables\n",
    "    return sum(args)      # adding all the variables passed into the funcion\n",
    "\n",
    "def sum_2(lst):           # add the elements of the list passed into the function\n",
    "    summ = 0\n",
    "    for n in lst:\n",
    "        summ = summ + n\n",
    "    return summ\n",
    "print(sum_finder(1,2,3,4), sum_finder(*lst), sum_2(lst))"
   ]
  },
  {
   "cell_type": "code",
   "execution_count": 104,
   "metadata": {
    "scrolled": true
   },
   "outputs": [
    {
     "name": "stdout",
     "output_type": "stream",
     "text": [
      "6\n",
      "[2, 6, 8]\n",
      "[2, 6, 8]\n",
      "[4]\n"
     ]
    }
   ],
   "source": [
    "x = lambda a, b, c: a+b+c                      #\n",
    "print (x(1,2,3))                               \n",
    "lst_2 = [1,3,4]\n",
    "print(list(map(lambda z: z*2, lst_2)))         # doubles all list elements \n",
    "print([n*2 for n in lst_2 ])                   # doubles all list elements \n",
    "print(list(filter(lambda z: z%2==0, lst_2)))   #filters out only even numbers"
   ]
  },
  {
   "cell_type": "code",
   "execution_count": 102,
   "metadata": {},
   "outputs": [
    {
     "name": "stdout",
     "output_type": "stream",
     "text": [
      "True False\n"
     ]
    }
   ],
   "source": [
    "lst_3 = [True, False]\n",
    "print(any(lst_3), all(lst_3)) # any trues? all trues?"
   ]
  },
  {
   "cell_type": "markdown",
   "metadata": {},
   "source": [
    "Recalling a package file (functions defined in a separate .py file)"
   ]
  },
  {
   "cell_type": "code",
   "execution_count": 108,
   "metadata": {
    "scrolled": false
   },
   "outputs": [
    {
     "name": "stdout",
     "output_type": "stream",
     "text": [
      "7\n",
      "8\n"
     ]
    }
   ],
   "source": [
    "import func as f\n",
    "from func import double\n",
    "print(f.add(3,4))     # must add package name before function\n",
    "print(double(4))         # no need to add package name since it was specifically added"
   ]
  },
  {
   "cell_type": "markdown",
   "metadata": {},
   "source": [
    "Randomizing\n"
   ]
  },
  {
   "cell_type": "code",
   "execution_count": 147,
   "metadata": {},
   "outputs": [
    {
     "name": "stdout",
     "output_type": "stream",
     "text": [
      "3\n",
      "[4, 3, 1]\n"
     ]
    },
    {
     "data": {
      "text/plain": [
       "array([[0.74872996, 0.71048062, 0.61983004],\n",
       "       [0.49440113, 0.25650299, 0.72337128],\n",
       "       [0.46093532, 0.4202215 , 0.42437593],\n",
       "       [0.88712102, 0.95768846, 0.98757802],\n",
       "       [0.73777939, 0.06694681, 0.02830021]])"
      ]
     },
     "execution_count": 147,
     "metadata": {},
     "output_type": "execute_result"
    }
   ],
   "source": [
    "import random\n",
    "\n",
    "# lists\n",
    "print (random.choice(lst_2))# randomly chooses an element in list\n",
    "random.shuffle(lst_2)       # permanently reorganizes randomly \n",
    "print(lst_2)\n",
    "\n",
    "# arrays\n",
    "np.random.seed(100)   # so the random number seed start the same each time\n",
    "np.random.rand(5,3)   # 5 rows and 3 columns of  random numbers from 0 to 1\n",
    "np.random.randn(5)  # 5 random numbers from -1 to 1 normally distributed\n",
    "np.random.randint(1,10, 5) # 5 random integers between 1 and 10\n",
    "np.random.randint(1,10, [3,3])   # random integers filling 3x3"
   ]
  },
  {
   "cell_type": "markdown",
   "metadata": {},
   "source": [
    "Pandas"
   ]
  },
  {
   "cell_type": "markdown",
   "metadata": {},
   "source": [
    "Series"
   ]
  },
  {
   "cell_type": "code",
   "execution_count": 212,
   "metadata": {},
   "outputs": [],
   "source": [
    "lst_data1 = [1,3,6]\n",
    "lst_index1 = ['pt1', 'pt2', 'pt3']\n",
    "series1 = pd.Series(data=lst_data1, index = lst_index1)"
   ]
  },
  {
   "cell_type": "code",
   "execution_count": 214,
   "metadata": {},
   "outputs": [
    {
     "data": {
      "text/plain": [
       "pt1     4.0\n",
       "pt2     NaN\n",
       "pt3    11.0\n",
       "dtype: float64"
      ]
     },
     "execution_count": 214,
     "metadata": {},
     "output_type": "execute_result"
    }
   ],
   "source": [
    "lst_data2 = [3,5]\n",
    "lst_index2 = ['pt1', 'pt3']\n",
    "series2 = pd.Series(data=lst_data2, index = lst_index2)\n",
    "series1+series2"
   ]
  },
  {
   "cell_type": "markdown",
   "metadata": {},
   "source": [
    "DataFrame"
   ]
  },
  {
   "cell_type": "code",
   "execution_count": 218,
   "metadata": {
    "scrolled": true
   },
   "outputs": [
    {
     "data": {
      "text/html": [
       "<div>\n",
       "<style scoped>\n",
       "    .dataframe tbody tr th:only-of-type {\n",
       "        vertical-align: middle;\n",
       "    }\n",
       "\n",
       "    .dataframe tbody tr th {\n",
       "        vertical-align: top;\n",
       "    }\n",
       "\n",
       "    .dataframe thead th {\n",
       "        text-align: right;\n",
       "    }\n",
       "</style>\n",
       "<table border=\"1\" class=\"dataframe\">\n",
       "  <thead>\n",
       "    <tr style=\"text-align: right;\">\n",
       "      <th></th>\n",
       "      <th>X</th>\n",
       "      <th>Y</th>\n",
       "      <th>Z</th>\n",
       "    </tr>\n",
       "  </thead>\n",
       "  <tbody>\n",
       "    <tr>\n",
       "      <th>pt1</th>\n",
       "      <td>0.553792</td>\n",
       "      <td>-0.452448</td>\n",
       "      <td>0.746140</td>\n",
       "    </tr>\n",
       "    <tr>\n",
       "      <th>pt2</th>\n",
       "      <td>-0.877445</td>\n",
       "      <td>0.611631</td>\n",
       "      <td>0.415177</td>\n",
       "    </tr>\n",
       "    <tr>\n",
       "      <th>pt3</th>\n",
       "      <td>1.146209</td>\n",
       "      <td>-0.600794</td>\n",
       "      <td>0.667518</td>\n",
       "    </tr>\n",
       "  </tbody>\n",
       "</table>\n",
       "</div>"
      ],
      "text/plain": [
       "            X         Y         Z\n",
       "pt1  0.553792 -0.452448  0.746140\n",
       "pt2 -0.877445  0.611631  0.415177\n",
       "pt3  1.146209 -0.600794  0.667518"
      ]
     },
     "execution_count": 218,
     "metadata": {},
     "output_type": "execute_result"
    }
   ],
   "source": [
    "lst_columns = ['X', 'Y', 'Z']\n",
    "position = np.random.randn(3,3)\n",
    "df = pd.DataFrame(data= position, index = lst_index1, columns = lst_columns)\n",
    "df"
   ]
  },
  {
   "cell_type": "code",
   "execution_count": 219,
   "metadata": {
    "scrolled": true
   },
   "outputs": [
    {
     "data": {
      "text/plain": [
       "pt1    0.553792\n",
       "pt2   -0.877445\n",
       "pt3    1.146209\n",
       "Name: X, dtype: float64"
      ]
     },
     "execution_count": 219,
     "metadata": {},
     "output_type": "execute_result"
    }
   ],
   "source": [
    "df['X']   # returns every thing in that column"
   ]
  },
  {
   "cell_type": "code",
   "execution_count": 220,
   "metadata": {
    "scrolled": true
   },
   "outputs": [
    {
     "data": {
      "text/html": [
       "<div>\n",
       "<style scoped>\n",
       "    .dataframe tbody tr th:only-of-type {\n",
       "        vertical-align: middle;\n",
       "    }\n",
       "\n",
       "    .dataframe tbody tr th {\n",
       "        vertical-align: top;\n",
       "    }\n",
       "\n",
       "    .dataframe thead th {\n",
       "        text-align: right;\n",
       "    }\n",
       "</style>\n",
       "<table border=\"1\" class=\"dataframe\">\n",
       "  <thead>\n",
       "    <tr style=\"text-align: right;\">\n",
       "      <th></th>\n",
       "      <th>X</th>\n",
       "      <th>Y</th>\n",
       "      <th>Z</th>\n",
       "    </tr>\n",
       "  </thead>\n",
       "  <tbody>\n",
       "    <tr>\n",
       "      <th>pt1</th>\n",
       "      <td>0.553792</td>\n",
       "      <td>-0.452448</td>\n",
       "      <td>0.746140</td>\n",
       "    </tr>\n",
       "    <tr>\n",
       "      <th>pt3</th>\n",
       "      <td>1.146209</td>\n",
       "      <td>-0.600794</td>\n",
       "      <td>0.667518</td>\n",
       "    </tr>\n",
       "  </tbody>\n",
       "</table>\n",
       "</div>"
      ],
      "text/plain": [
       "            X         Y         Z\n",
       "pt1  0.553792 -0.452448  0.746140\n",
       "pt3  1.146209 -0.600794  0.667518"
      ]
     },
     "execution_count": 220,
     "metadata": {},
     "output_type": "execute_result"
    }
   ],
   "source": [
    "df[df['X']>0]   # gives all rows of X that are greater than 0, and all columns subseqent"
   ]
  },
  {
   "cell_type": "code",
   "execution_count": 221,
   "metadata": {
    "scrolled": true
   },
   "outputs": [
    {
     "data": {
      "text/html": [
       "<div>\n",
       "<style scoped>\n",
       "    .dataframe tbody tr th:only-of-type {\n",
       "        vertical-align: middle;\n",
       "    }\n",
       "\n",
       "    .dataframe tbody tr th {\n",
       "        vertical-align: top;\n",
       "    }\n",
       "\n",
       "    .dataframe thead th {\n",
       "        text-align: right;\n",
       "    }\n",
       "</style>\n",
       "<table border=\"1\" class=\"dataframe\">\n",
       "  <thead>\n",
       "    <tr style=\"text-align: right;\">\n",
       "      <th></th>\n",
       "      <th>X</th>\n",
       "      <th>Y</th>\n",
       "      <th>Z</th>\n",
       "    </tr>\n",
       "  </thead>\n",
       "  <tbody>\n",
       "    <tr>\n",
       "      <th>pt3</th>\n",
       "      <td>1.146209</td>\n",
       "      <td>-0.600794</td>\n",
       "      <td>0.667518</td>\n",
       "    </tr>\n",
       "  </tbody>\n",
       "</table>\n",
       "</div>"
      ],
      "text/plain": [
       "            X         Y         Z\n",
       "pt3  1.146209 -0.600794  0.667518"
      ]
     },
     "execution_count": 221,
     "metadata": {},
     "output_type": "execute_result"
    }
   ],
   "source": [
    "df[(df['X']>0) & (df['Z']<.7)]"
   ]
  },
  {
   "cell_type": "code",
   "execution_count": 234,
   "metadata": {
    "scrolled": false
   },
   "outputs": [
    {
     "data": {
      "text/html": [
       "<div>\n",
       "<style scoped>\n",
       "    .dataframe tbody tr th:only-of-type {\n",
       "        vertical-align: middle;\n",
       "    }\n",
       "\n",
       "    .dataframe tbody tr th {\n",
       "        vertical-align: top;\n",
       "    }\n",
       "\n",
       "    .dataframe thead th {\n",
       "        text-align: right;\n",
       "    }\n",
       "</style>\n",
       "<table border=\"1\" class=\"dataframe\">\n",
       "  <thead>\n",
       "    <tr style=\"text-align: right;\">\n",
       "      <th></th>\n",
       "      <th>X</th>\n",
       "      <th>Y</th>\n",
       "      <th>Z</th>\n",
       "      <th>K</th>\n",
       "    </tr>\n",
       "  </thead>\n",
       "  <tbody>\n",
       "    <tr>\n",
       "      <th>pt1</th>\n",
       "      <td>0.553792</td>\n",
       "      <td>-0.452448</td>\n",
       "      <td>0.746140</td>\n",
       "      <td>1.107583</td>\n",
       "    </tr>\n",
       "    <tr>\n",
       "      <th>pt2</th>\n",
       "      <td>-0.877445</td>\n",
       "      <td>0.611631</td>\n",
       "      <td>0.415177</td>\n",
       "      <td>-1.754891</td>\n",
       "    </tr>\n",
       "    <tr>\n",
       "      <th>pt3</th>\n",
       "      <td>1.146209</td>\n",
       "      <td>-0.600794</td>\n",
       "      <td>0.667518</td>\n",
       "      <td>2.292417</td>\n",
       "    </tr>\n",
       "  </tbody>\n",
       "</table>\n",
       "</div>"
      ],
      "text/plain": [
       "            X         Y         Z         K\n",
       "pt1  0.553792 -0.452448  0.746140  1.107583\n",
       "pt2 -0.877445  0.611631  0.415177 -1.754891\n",
       "pt3  1.146209 -0.600794  0.667518  2.292417"
      ]
     },
     "execution_count": 234,
     "metadata": {},
     "output_type": "execute_result"
    }
   ],
   "source": [
    "df['K'] = df['X']*2\n",
    "df"
   ]
  },
  {
   "cell_type": "code",
   "execution_count": 235,
   "metadata": {},
   "outputs": [
    {
     "data": {
      "text/html": [
       "<div>\n",
       "<style scoped>\n",
       "    .dataframe tbody tr th:only-of-type {\n",
       "        vertical-align: middle;\n",
       "    }\n",
       "\n",
       "    .dataframe tbody tr th {\n",
       "        vertical-align: top;\n",
       "    }\n",
       "\n",
       "    .dataframe thead th {\n",
       "        text-align: right;\n",
       "    }\n",
       "</style>\n",
       "<table border=\"1\" class=\"dataframe\">\n",
       "  <thead>\n",
       "    <tr style=\"text-align: right;\">\n",
       "      <th></th>\n",
       "      <th>X</th>\n",
       "      <th>Y</th>\n",
       "      <th>Z</th>\n",
       "    </tr>\n",
       "  </thead>\n",
       "  <tbody>\n",
       "    <tr>\n",
       "      <th>pt1</th>\n",
       "      <td>0.553792</td>\n",
       "      <td>-0.452448</td>\n",
       "      <td>0.746140</td>\n",
       "    </tr>\n",
       "    <tr>\n",
       "      <th>pt2</th>\n",
       "      <td>-0.877445</td>\n",
       "      <td>0.611631</td>\n",
       "      <td>0.415177</td>\n",
       "    </tr>\n",
       "    <tr>\n",
       "      <th>pt3</th>\n",
       "      <td>1.146209</td>\n",
       "      <td>-0.600794</td>\n",
       "      <td>0.667518</td>\n",
       "    </tr>\n",
       "  </tbody>\n",
       "</table>\n",
       "</div>"
      ],
      "text/plain": [
       "            X         Y         Z\n",
       "pt1  0.553792 -0.452448  0.746140\n",
       "pt2 -0.877445  0.611631  0.415177\n",
       "pt3  1.146209 -0.600794  0.667518"
      ]
     },
     "execution_count": 235,
     "metadata": {},
     "output_type": "execute_result"
    }
   ],
   "source": [
    "df.drop('K', axis=1, inplace=True)\n",
    "df"
   ]
  },
  {
   "cell_type": "code",
   "execution_count": 236,
   "metadata": {
    "scrolled": false
   },
   "outputs": [
    {
     "data": {
      "text/plain": [
       "X    0.553792\n",
       "Y   -0.452448\n",
       "Z    0.746140\n",
       "Name: pt1, dtype: float64"
      ]
     },
     "execution_count": 236,
     "metadata": {},
     "output_type": "execute_result"
    }
   ],
   "source": [
    "df.loc['pt1']   # returns everthing in that row. "
   ]
  },
  {
   "cell_type": "code",
   "execution_count": 243,
   "metadata": {
    "scrolled": false
   },
   "outputs": [],
   "source": [
    "x = np.linspace(1,20,500)+np.random.randn(500)\n",
    "X = np.array(x).reshape(-1,1)\n"
   ]
  },
  {
   "cell_type": "code",
   "execution_count": 256,
   "metadata": {},
   "outputs": [
    {
     "data": {
      "text/html": [
       "<div>\n",
       "<style scoped>\n",
       "    .dataframe tbody tr th:only-of-type {\n",
       "        vertical-align: middle;\n",
       "    }\n",
       "\n",
       "    .dataframe tbody tr th {\n",
       "        vertical-align: top;\n",
       "    }\n",
       "\n",
       "    .dataframe thead th {\n",
       "        text-align: right;\n",
       "    }\n",
       "</style>\n",
       "<table border=\"1\" class=\"dataframe\">\n",
       "  <thead>\n",
       "    <tr style=\"text-align: right;\">\n",
       "      <th></th>\n",
       "      <th>X</th>\n",
       "      <th>Y</th>\n",
       "    </tr>\n",
       "  </thead>\n",
       "  <tbody>\n",
       "    <tr>\n",
       "      <th>pt2</th>\n",
       "      <td>-0.877445</td>\n",
       "      <td>0.611631</td>\n",
       "    </tr>\n",
       "    <tr>\n",
       "      <th>pt3</th>\n",
       "      <td>1.146209</td>\n",
       "      <td>-0.600794</td>\n",
       "    </tr>\n",
       "  </tbody>\n",
       "</table>\n",
       "</div>"
      ],
      "text/plain": [
       "            X         Y\n",
       "pt2 -0.877445  0.611631\n",
       "pt3  1.146209 -0.600794"
      ]
     },
     "execution_count": 256,
     "metadata": {},
     "output_type": "execute_result"
    }
   ],
   "source": [
    "df.loc[df.index != 'pt1',df.columns != 'Z']"
   ]
  },
  {
   "cell_type": "code",
   "execution_count": null,
   "metadata": {},
   "outputs": [],
   "source": []
  }
 ],
 "metadata": {
  "kernelspec": {
   "display_name": "Python 3",
   "language": "python",
   "name": "python3"
  },
  "language_info": {
   "codemirror_mode": {
    "name": "ipython",
    "version": 3
   },
   "file_extension": ".py",
   "mimetype": "text/x-python",
   "name": "python",
   "nbconvert_exporter": "python",
   "pygments_lexer": "ipython3",
   "version": "3.8.5"
  }
 },
 "nbformat": 4,
 "nbformat_minor": 4
}
