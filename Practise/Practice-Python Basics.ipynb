{
 "cells": [
  {
   "cell_type": "code",
   "execution_count": 20,
   "metadata": {},
   "outputs": [
    {
     "name": "stdout",
     "output_type": "stream",
     "text": [
      "number for factorial: 3\n",
      "6\n"
     ]
    }
   ],
   "source": [
    "# for computing factorials from a user input\n",
    "\n",
    "num = int(input(\"number for factorial: \"))\n",
    "factorial = 1\n",
    "for i in range(1,num+1):\n",
    "    factorial *= i\n",
    "print (factorial)\n"
   ]
  },
  {
   "cell_type": "code",
   "execution_count": 35,
   "metadata": {},
   "outputs": [
    {
     "name": "stdout",
     "output_type": "stream",
     "text": [
      "3\n"
     ]
    }
   ],
   "source": [
    "hello = [3]\n",
    "lst = hello.pop()\n",
    "print(lst)"
   ]
  },
  {
   "cell_type": "code",
   "execution_count": 36,
   "metadata": {
    "scrolled": true
   },
   "outputs": [
    {
     "name": "stdout",
     "output_type": "stream",
     "text": [
      "[15, 4, 5, 6]\n"
     ]
    }
   ],
   "source": [
    "hello.append(15)\n",
    "hello += [4,5,6]\n",
    "print(hello)"
   ]
  },
  {
   "cell_type": "code",
   "execution_count": 39,
   "metadata": {},
   "outputs": [
    {
     "name": "stdout",
     "output_type": "stream",
     "text": [
      "[15, 4, 54, 54, 6]\n"
     ]
    }
   ],
   "source": [
    "hello.insert(3,54)\n",
    "print(hello)"
   ]
  },
  {
   "cell_type": "code",
   "execution_count": 38,
   "metadata": {},
   "outputs": [
    {
     "name": "stdout",
     "output_type": "stream",
     "text": [
      "[15, 4, 54, 6]\n"
     ]
    }
   ],
   "source": [
    "hello.pop(2)\n",
    "print(hello)"
   ]
  },
  {
   "cell_type": "code",
   "execution_count": 40,
   "metadata": {},
   "outputs": [
    {
     "data": {
      "text/plain": [
       "2"
      ]
     },
     "execution_count": 40,
     "metadata": {},
     "output_type": "execute_result"
    }
   ],
   "source": [
    "hello.index(54)"
   ]
  },
  {
   "cell_type": "code",
   "execution_count": 41,
   "metadata": {},
   "outputs": [
    {
     "data": {
      "text/plain": [
       "2"
      ]
     },
     "execution_count": 41,
     "metadata": {},
     "output_type": "execute_result"
    }
   ],
   "source": [
    "hello.count(54)"
   ]
  },
  {
   "cell_type": "code",
   "execution_count": 47,
   "metadata": {},
   "outputs": [
    {
     "data": {
      "text/plain": [
       "[7.5, 2.0, 27.0, 27.0, 3.0]"
      ]
     },
     "execution_count": 47,
     "metadata": {},
     "output_type": "execute_result"
    }
   ],
   "source": [
    "[num if num==2 else num/2 for num in hello]"
   ]
  },
  {
   "cell_type": "code",
   "execution_count": 49,
   "metadata": {
    "scrolled": true
   },
   "outputs": [
    {
     "name": "stdout",
     "output_type": "stream",
     "text": [
      "[2, 3, 4, 5, 6, 7, 8, 9, 10, 11, 12, 13, 14, 15, 16, 17, 18, 19, 20]\n"
     ]
    }
   ],
   "source": [
    "new_list = [num for num in range (2,21)]\n",
    "print (new_list)"
   ]
  },
  {
   "cell_type": "code",
   "execution_count": 56,
   "metadata": {
    "scrolled": true
   },
   "outputs": [
    {
     "name": "stdout",
     "output_type": "stream",
     "text": [
      "[2, 6, 4, 10, 6, 14, 8, 18, 10, 22, 12, 26, 14, 30, 16, 34, 18, 38, 20]\n",
      "[6, 10, 14, 18, 22, 26, 30, 34, 38]\n",
      "[1.0, 18, 2.0, 2.5, 36, 3.5, 4.0, 54, 5.0, 5.5, 72, 6.5, 7.0, 90, 8.0, 8.5, 108, 9.5, 10.0]\n"
     ]
    }
   ],
   "source": [
    "print ([num*2 if num%2==1 else num for num in new_list])\n",
    "print ([num*2 for num in new_list if num%2==1])\n",
    "print ([num*6 if num%3==0 else num/2 for num in new_list])"
   ]
  },
  {
   "cell_type": "code",
   "execution_count": 70,
   "metadata": {},
   "outputs": [
    {
     "name": "stdout",
     "output_type": "stream",
     "text": [
      "3.335e-11\n"
     ]
    }
   ],
   "source": [
    "G = 6.67e-11\n",
    "\n",
    "def f_of_g(mass1, mass2, r):\n",
    "    f = G*(abs(mass1*mass2)/r**2)\n",
    "    return f\n",
    "\n",
    "print(f_of_g(-20,40,r=40))"
   ]
  },
  {
   "cell_type": "code",
   "execution_count": 68,
   "metadata": {},
   "outputs": [
    {
     "data": {
      "text/plain": [
       "75.16666666666667"
      ]
     },
     "execution_count": 68,
     "metadata": {},
     "output_type": "execute_result"
    }
   ],
   "source": [
    "new_list = [50,62,74,80,85,100]\n",
    "\n",
    "def average_finder(*args):\n",
    "    addition = 0\n",
    "    for num in args:\n",
    "        addition += num\n",
    "    return addition/len(args)\n",
    "\n",
    "average_finder(*new_list)"
   ]
  },
  {
   "cell_type": "code",
   "execution_count": 69,
   "metadata": {},
   "outputs": [
    {
     "data": {
      "text/plain": [
       "[4, 10, 16, 18]"
      ]
     },
     "execution_count": 69,
     "metadata": {},
     "output_type": "execute_result"
    }
   ],
   "source": [
    "new_list2 = [2,5,8,9]\n",
    "\n",
    "double = lambda x: 2*x\n",
    "\n",
    "list(map(double,new_list2))"
   ]
  },
  {
   "cell_type": "code",
   "execution_count": 3,
   "metadata": {},
   "outputs": [],
   "source": [
    "import seaborn\n",
    "import pandas\n",
    "import matplotlib\n"
   ]
  },
  {
   "cell_type": "code",
   "execution_count": 72,
   "metadata": {},
   "outputs": [
    {
     "name": "stdout",
     "output_type": "stream",
     "text": [
      "Collecting pyfiglet\n",
      "  Downloading pyfiglet-0.8.post1-py2.py3-none-any.whl (865 kB)\n",
      "\u001b[K     |████████████████████████████████| 865 kB 2.4 MB/s eta 0:00:01\n",
      "\u001b[?25hInstalling collected packages: pyfiglet\n",
      "Successfully installed pyfiglet-0.8.post1\n"
     ]
    }
   ],
   "source": [
    "!pip install pyfiglet"
   ]
  },
  {
   "cell_type": "code",
   "execution_count": 5,
   "metadata": {},
   "outputs": [
    {
     "data": {
      "text/plain": [
       "array([ 10., 100.])"
      ]
     },
     "execution_count": 5,
     "metadata": {},
     "output_type": "execute_result"
    }
   ],
   "source": [
    "import numpy as np\n",
    "np.logspace(1,2,2)"
   ]
  },
  {
   "cell_type": "code",
   "execution_count": 8,
   "metadata": {},
   "outputs": [
    {
     "data": {
      "text/plain": [
       "array([ 2,  4,  6,  8, 10, 12, 14, 16, 18, 20, 22, 24, 26, 28, 30])"
      ]
     },
     "execution_count": 8,
     "metadata": {},
     "output_type": "execute_result"
    }
   ],
   "source": [
    "arr = np.arange(1,31)\n",
    "arr[arr%2==0]"
   ]
  },
  {
   "cell_type": "code",
   "execution_count": 12,
   "metadata": {
    "scrolled": true
   },
   "outputs": [
    {
     "data": {
      "text/plain": [
       "array([  1,   2, 999, 999, 999, 999, 999,   8,   9,  10,  11,  12,  13,\n",
       "        14,  15,  16,  17,  18,  19,  20,  21,  22,  23,  24,  25,  26,\n",
       "        27,  28,  29,  30])"
      ]
     },
     "execution_count": 12,
     "metadata": {},
     "output_type": "execute_result"
    }
   ],
   "source": [
    "slice_of = arr[2:7]\n",
    "slice_of[:] = 999"
   ]
  },
  {
   "cell_type": "code",
   "execution_count": 14,
   "metadata": {},
   "outputs": [
    {
     "data": {
      "text/plain": [
       "array([999,  23, 999, 999, 999])"
      ]
     },
     "execution_count": 14,
     "metadata": {},
     "output_type": "execute_result"
    }
   ],
   "source": [
    "arr[3] = 23\n",
    "slice_of"
   ]
  },
  {
   "cell_type": "code",
   "execution_count": 3,
   "metadata": {},
   "outputs": [],
   "source": [
    "import pandas as pd"
   ]
  },
  {
   "cell_type": "code",
   "execution_count": 6,
   "metadata": {},
   "outputs": [
    {
     "data": {
      "text/plain": [
       "pin2   NaN\n",
       "pin3   NaN\n",
       "dtype: float64"
      ]
     },
     "execution_count": 6,
     "metadata": {},
     "output_type": "execute_result"
    }
   ],
   "source": [
    "ser_a = pd.Series(data = [1.3], index=['pin3'])\n",
    "ser_b = pd.Series(data = [3.3], index=['pin2'])\n",
    "ser_a+ser_b"
   ]
  },
  {
   "cell_type": "code",
   "execution_count": 7,
   "metadata": {},
   "outputs": [],
   "source": [
    "import numpy as np"
   ]
  },
  {
   "cell_type": "code",
   "execution_count": 12,
   "metadata": {
    "scrolled": true
   },
   "outputs": [
    {
     "data": {
      "text/plain": [
       "array([[-1.74976547,  0.3426804 ,  1.1530358 ],\n",
       "       [-0.25243604,  0.98132079,  0.51421884],\n",
       "       [ 0.22117967, -1.07004333, -0.18949583],\n",
       "       [ 0.25500144, -0.45802699,  0.43516349],\n",
       "       [-0.58359505,  0.81684707,  0.67272081]])"
      ]
     },
     "execution_count": 12,
     "metadata": {},
     "output_type": "execute_result"
    }
   ],
   "source": [
    "np.random.seed(100)\n",
    "position = np.random.randn(5,3)\n",
    "position"
   ]
  },
  {
   "cell_type": "code",
   "execution_count": 14,
   "metadata": {
    "scrolled": true
   },
   "outputs": [
    {
     "data": {
      "text/html": [
       "<div>\n",
       "<style scoped>\n",
       "    .dataframe tbody tr th:only-of-type {\n",
       "        vertical-align: middle;\n",
       "    }\n",
       "\n",
       "    .dataframe tbody tr th {\n",
       "        vertical-align: top;\n",
       "    }\n",
       "\n",
       "    .dataframe thead th {\n",
       "        text-align: right;\n",
       "    }\n",
       "</style>\n",
       "<table border=\"1\" class=\"dataframe\">\n",
       "  <thead>\n",
       "    <tr style=\"text-align: right;\">\n",
       "      <th></th>\n",
       "      <th>X</th>\n",
       "      <th>Y</th>\n",
       "      <th>Z</th>\n",
       "    </tr>\n",
       "  </thead>\n",
       "  <tbody>\n",
       "    <tr>\n",
       "      <th>pnt1</th>\n",
       "      <td>-1.749765</td>\n",
       "      <td>0.342680</td>\n",
       "      <td>1.153036</td>\n",
       "    </tr>\n",
       "    <tr>\n",
       "      <th>pnt2</th>\n",
       "      <td>-0.252436</td>\n",
       "      <td>0.981321</td>\n",
       "      <td>0.514219</td>\n",
       "    </tr>\n",
       "    <tr>\n",
       "      <th>pnt3</th>\n",
       "      <td>0.221180</td>\n",
       "      <td>-1.070043</td>\n",
       "      <td>-0.189496</td>\n",
       "    </tr>\n",
       "    <tr>\n",
       "      <th>pnt4</th>\n",
       "      <td>0.255001</td>\n",
       "      <td>-0.458027</td>\n",
       "      <td>0.435163</td>\n",
       "    </tr>\n",
       "    <tr>\n",
       "      <th>pnt5</th>\n",
       "      <td>-0.583595</td>\n",
       "      <td>0.816847</td>\n",
       "      <td>0.672721</td>\n",
       "    </tr>\n",
       "  </tbody>\n",
       "</table>\n",
       "</div>"
      ],
      "text/plain": [
       "             X         Y         Z\n",
       "pnt1 -1.749765  0.342680  1.153036\n",
       "pnt2 -0.252436  0.981321  0.514219\n",
       "pnt3  0.221180 -1.070043 -0.189496\n",
       "pnt4  0.255001 -0.458027  0.435163\n",
       "pnt5 -0.583595  0.816847  0.672721"
      ]
     },
     "execution_count": 14,
     "metadata": {},
     "output_type": "execute_result"
    }
   ],
   "source": [
    "df = pd.DataFrame(data = position, index= ['pnt1','pnt2','pnt3','pnt4','pnt5'], columns=['X','Y','Z'])\n",
    "df"
   ]
  },
  {
   "cell_type": "code",
   "execution_count": 15,
   "metadata": {},
   "outputs": [
    {
     "data": {
      "text/plain": [
       "pnt1   -1.749765\n",
       "pnt2   -0.252436\n",
       "pnt3    0.221180\n",
       "pnt4    0.255001\n",
       "pnt5   -0.583595\n",
       "Name: X, dtype: float64"
      ]
     },
     "execution_count": 15,
     "metadata": {},
     "output_type": "execute_result"
    }
   ],
   "source": [
    "df['X']"
   ]
  },
  {
   "cell_type": "code",
   "execution_count": 16,
   "metadata": {
    "scrolled": true
   },
   "outputs": [
    {
     "data": {
      "text/plain": [
       "pandas.core.frame.DataFrame"
      ]
     },
     "execution_count": 16,
     "metadata": {},
     "output_type": "execute_result"
    }
   ],
   "source": [
    "type(df)"
   ]
  },
  {
   "cell_type": "code",
   "execution_count": 17,
   "metadata": {
    "scrolled": true
   },
   "outputs": [
    {
     "data": {
      "text/html": [
       "<div>\n",
       "<style scoped>\n",
       "    .dataframe tbody tr th:only-of-type {\n",
       "        vertical-align: middle;\n",
       "    }\n",
       "\n",
       "    .dataframe tbody tr th {\n",
       "        vertical-align: top;\n",
       "    }\n",
       "\n",
       "    .dataframe thead th {\n",
       "        text-align: right;\n",
       "    }\n",
       "</style>\n",
       "<table border=\"1\" class=\"dataframe\">\n",
       "  <thead>\n",
       "    <tr style=\"text-align: right;\">\n",
       "      <th></th>\n",
       "      <th>Y</th>\n",
       "      <th>Z</th>\n",
       "    </tr>\n",
       "  </thead>\n",
       "  <tbody>\n",
       "    <tr>\n",
       "      <th>pnt1</th>\n",
       "      <td>0.342680</td>\n",
       "      <td>1.153036</td>\n",
       "    </tr>\n",
       "    <tr>\n",
       "      <th>pnt2</th>\n",
       "      <td>0.981321</td>\n",
       "      <td>0.514219</td>\n",
       "    </tr>\n",
       "    <tr>\n",
       "      <th>pnt3</th>\n",
       "      <td>-1.070043</td>\n",
       "      <td>-0.189496</td>\n",
       "    </tr>\n",
       "    <tr>\n",
       "      <th>pnt4</th>\n",
       "      <td>-0.458027</td>\n",
       "      <td>0.435163</td>\n",
       "    </tr>\n",
       "    <tr>\n",
       "      <th>pnt5</th>\n",
       "      <td>0.816847</td>\n",
       "      <td>0.672721</td>\n",
       "    </tr>\n",
       "  </tbody>\n",
       "</table>\n",
       "</div>"
      ],
      "text/plain": [
       "             Y         Z\n",
       "pnt1  0.342680  1.153036\n",
       "pnt2  0.981321  0.514219\n",
       "pnt3 -1.070043 -0.189496\n",
       "pnt4 -0.458027  0.435163\n",
       "pnt5  0.816847  0.672721"
      ]
     },
     "execution_count": 17,
     "metadata": {},
     "output_type": "execute_result"
    }
   ],
   "source": [
    "df.drop('X', axis=1)"
   ]
  },
  {
   "cell_type": "code",
   "execution_count": 18,
   "metadata": {
    "scrolled": true
   },
   "outputs": [
    {
     "data": {
      "text/html": [
       "<div>\n",
       "<style scoped>\n",
       "    .dataframe tbody tr th:only-of-type {\n",
       "        vertical-align: middle;\n",
       "    }\n",
       "\n",
       "    .dataframe tbody tr th {\n",
       "        vertical-align: top;\n",
       "    }\n",
       "\n",
       "    .dataframe thead th {\n",
       "        text-align: right;\n",
       "    }\n",
       "</style>\n",
       "<table border=\"1\" class=\"dataframe\">\n",
       "  <thead>\n",
       "    <tr style=\"text-align: right;\">\n",
       "      <th></th>\n",
       "      <th>X</th>\n",
       "      <th>Y</th>\n",
       "      <th>Z</th>\n",
       "    </tr>\n",
       "  </thead>\n",
       "  <tbody>\n",
       "    <tr>\n",
       "      <th>pnt1</th>\n",
       "      <td>-1.749765</td>\n",
       "      <td>0.342680</td>\n",
       "      <td>1.153036</td>\n",
       "    </tr>\n",
       "    <tr>\n",
       "      <th>pnt2</th>\n",
       "      <td>-0.252436</td>\n",
       "      <td>0.981321</td>\n",
       "      <td>0.514219</td>\n",
       "    </tr>\n",
       "    <tr>\n",
       "      <th>pnt3</th>\n",
       "      <td>0.221180</td>\n",
       "      <td>-1.070043</td>\n",
       "      <td>-0.189496</td>\n",
       "    </tr>\n",
       "    <tr>\n",
       "      <th>pnt4</th>\n",
       "      <td>0.255001</td>\n",
       "      <td>-0.458027</td>\n",
       "      <td>0.435163</td>\n",
       "    </tr>\n",
       "    <tr>\n",
       "      <th>pnt5</th>\n",
       "      <td>-0.583595</td>\n",
       "      <td>0.816847</td>\n",
       "      <td>0.672721</td>\n",
       "    </tr>\n",
       "  </tbody>\n",
       "</table>\n",
       "</div>"
      ],
      "text/plain": [
       "             X         Y         Z\n",
       "pnt1 -1.749765  0.342680  1.153036\n",
       "pnt2 -0.252436  0.981321  0.514219\n",
       "pnt3  0.221180 -1.070043 -0.189496\n",
       "pnt4  0.255001 -0.458027  0.435163\n",
       "pnt5 -0.583595  0.816847  0.672721"
      ]
     },
     "execution_count": 18,
     "metadata": {},
     "output_type": "execute_result"
    }
   ],
   "source": [
    "df"
   ]
  },
  {
   "cell_type": "code",
   "execution_count": null,
   "metadata": {},
   "outputs": [],
   "source": [
    "df['X'].apply()"
   ]
  },
  {
   "cell_type": "code",
   "execution_count": 28,
   "metadata": {
    "scrolled": true
   },
   "outputs": [
    {
     "data": {
      "text/plain": [
       "array([[0.9705508 , 0.39579461, 0.79874527, 0.63508815],\n",
       "       [0.22996917, 0.05120709, 0.02846381, 0.12284775],\n",
       "       [0.22021252, 0.82902275, 0.28549183, 0.78106408],\n",
       "       [0.50466581, 0.13844892, 0.77803655, 0.92133179],\n",
       "       [0.94301863, 0.7044358 , 0.69391645, 0.54655181],\n",
       "       [0.36921723, 0.98246757, 0.06560923, 0.89767831],\n",
       "       [0.26393099, 0.57447584, 0.51286627, 0.55447681],\n",
       "       [0.64716733, 0.18547416, 0.2719782 , 0.14843866],\n",
       "       [0.03030417, 0.93925558, 0.34675413, 0.1095646 ],\n",
       "       [0.378327  , 0.38407946, 0.66542369, 0.24449093]])"
      ]
     },
     "execution_count": 28,
     "metadata": {},
     "output_type": "execute_result"
    }
   ],
   "source": [
    "arr = np.random.rand(40)\n",
    "arr = arr.reshape(10,4)\n",
    "arr"
   ]
  },
  {
   "cell_type": "code",
   "execution_count": 30,
   "metadata": {
    "scrolled": true
   },
   "outputs": [
    {
     "data": {
      "text/html": [
       "<div>\n",
       "<style scoped>\n",
       "    .dataframe tbody tr th:only-of-type {\n",
       "        vertical-align: middle;\n",
       "    }\n",
       "\n",
       "    .dataframe tbody tr th {\n",
       "        vertical-align: top;\n",
       "    }\n",
       "\n",
       "    .dataframe thead th {\n",
       "        text-align: right;\n",
       "    }\n",
       "</style>\n",
       "<table border=\"1\" class=\"dataframe\">\n",
       "  <thead>\n",
       "    <tr style=\"text-align: right;\">\n",
       "      <th></th>\n",
       "      <th>150um</th>\n",
       "      <th>250um</th>\n",
       "      <th>350um</th>\n",
       "      <th>500um</th>\n",
       "    </tr>\n",
       "  </thead>\n",
       "  <tbody>\n",
       "    <tr>\n",
       "      <th>0</th>\n",
       "      <td>0.970551</td>\n",
       "      <td>0.395795</td>\n",
       "      <td>0.798745</td>\n",
       "      <td>0.635088</td>\n",
       "    </tr>\n",
       "    <tr>\n",
       "      <th>1</th>\n",
       "      <td>0.229969</td>\n",
       "      <td>0.051207</td>\n",
       "      <td>0.028464</td>\n",
       "      <td>0.122848</td>\n",
       "    </tr>\n",
       "    <tr>\n",
       "      <th>2</th>\n",
       "      <td>0.220213</td>\n",
       "      <td>0.829023</td>\n",
       "      <td>0.285492</td>\n",
       "      <td>0.781064</td>\n",
       "    </tr>\n",
       "    <tr>\n",
       "      <th>3</th>\n",
       "      <td>0.504666</td>\n",
       "      <td>0.138449</td>\n",
       "      <td>0.778037</td>\n",
       "      <td>0.921332</td>\n",
       "    </tr>\n",
       "    <tr>\n",
       "      <th>4</th>\n",
       "      <td>0.943019</td>\n",
       "      <td>0.704436</td>\n",
       "      <td>0.693916</td>\n",
       "      <td>0.546552</td>\n",
       "    </tr>\n",
       "    <tr>\n",
       "      <th>5</th>\n",
       "      <td>0.369217</td>\n",
       "      <td>0.982468</td>\n",
       "      <td>0.065609</td>\n",
       "      <td>0.897678</td>\n",
       "    </tr>\n",
       "    <tr>\n",
       "      <th>6</th>\n",
       "      <td>0.263931</td>\n",
       "      <td>0.574476</td>\n",
       "      <td>0.512866</td>\n",
       "      <td>0.554477</td>\n",
       "    </tr>\n",
       "    <tr>\n",
       "      <th>7</th>\n",
       "      <td>0.647167</td>\n",
       "      <td>0.185474</td>\n",
       "      <td>0.271978</td>\n",
       "      <td>0.148439</td>\n",
       "    </tr>\n",
       "    <tr>\n",
       "      <th>8</th>\n",
       "      <td>0.030304</td>\n",
       "      <td>0.939256</td>\n",
       "      <td>0.346754</td>\n",
       "      <td>0.109565</td>\n",
       "    </tr>\n",
       "    <tr>\n",
       "      <th>9</th>\n",
       "      <td>0.378327</td>\n",
       "      <td>0.384079</td>\n",
       "      <td>0.665424</td>\n",
       "      <td>0.244491</td>\n",
       "    </tr>\n",
       "  </tbody>\n",
       "</table>\n",
       "</div>"
      ],
      "text/plain": [
       "      150um     250um     350um     500um\n",
       "0  0.970551  0.395795  0.798745  0.635088\n",
       "1  0.229969  0.051207  0.028464  0.122848\n",
       "2  0.220213  0.829023  0.285492  0.781064\n",
       "3  0.504666  0.138449  0.778037  0.921332\n",
       "4  0.943019  0.704436  0.693916  0.546552\n",
       "5  0.369217  0.982468  0.065609  0.897678\n",
       "6  0.263931  0.574476  0.512866  0.554477\n",
       "7  0.647167  0.185474  0.271978  0.148439\n",
       "8  0.030304  0.939256  0.346754  0.109565\n",
       "9  0.378327  0.384079  0.665424  0.244491"
      ]
     },
     "execution_count": 30,
     "metadata": {},
     "output_type": "execute_result"
    }
   ],
   "source": [
    "new_df = pd.DataFrame(data=arr, columns=['150um', '250um', '350um', '500um'])\n",
    "new_df"
   ]
  },
  {
   "cell_type": "code",
   "execution_count": 33,
   "metadata": {},
   "outputs": [
    {
     "data": {
      "text/html": [
       "<div>\n",
       "<style scoped>\n",
       "    .dataframe tbody tr th:only-of-type {\n",
       "        vertical-align: middle;\n",
       "    }\n",
       "\n",
       "    .dataframe tbody tr th {\n",
       "        vertical-align: top;\n",
       "    }\n",
       "\n",
       "    .dataframe thead th {\n",
       "        text-align: right;\n",
       "    }\n",
       "</style>\n",
       "<table border=\"1\" class=\"dataframe\">\n",
       "  <thead>\n",
       "    <tr style=\"text-align: right;\">\n",
       "      <th></th>\n",
       "      <th>150um</th>\n",
       "      <th>250um</th>\n",
       "      <th>350um</th>\n",
       "      <th>500um</th>\n",
       "      <th>long</th>\n",
       "      <th>Evolution</th>\n",
       "    </tr>\n",
       "  </thead>\n",
       "  <tbody>\n",
       "    <tr>\n",
       "      <th>0</th>\n",
       "      <td>0.970551</td>\n",
       "      <td>0.395795</td>\n",
       "      <td>0.798745</td>\n",
       "      <td>0.635088</td>\n",
       "      <td>10</td>\n",
       "      <td>0</td>\n",
       "    </tr>\n",
       "    <tr>\n",
       "      <th>1</th>\n",
       "      <td>0.229969</td>\n",
       "      <td>0.051207</td>\n",
       "      <td>0.028464</td>\n",
       "      <td>0.122848</td>\n",
       "      <td>10</td>\n",
       "      <td>1</td>\n",
       "    </tr>\n",
       "    <tr>\n",
       "      <th>2</th>\n",
       "      <td>0.220213</td>\n",
       "      <td>0.829023</td>\n",
       "      <td>0.285492</td>\n",
       "      <td>0.781064</td>\n",
       "      <td>30</td>\n",
       "      <td>0</td>\n",
       "    </tr>\n",
       "    <tr>\n",
       "      <th>3</th>\n",
       "      <td>0.504666</td>\n",
       "      <td>0.138449</td>\n",
       "      <td>0.778037</td>\n",
       "      <td>0.921332</td>\n",
       "      <td>10</td>\n",
       "      <td>1</td>\n",
       "    </tr>\n",
       "    <tr>\n",
       "      <th>4</th>\n",
       "      <td>0.943019</td>\n",
       "      <td>0.704436</td>\n",
       "      <td>0.693916</td>\n",
       "      <td>0.546552</td>\n",
       "      <td>30</td>\n",
       "      <td>0</td>\n",
       "    </tr>\n",
       "    <tr>\n",
       "      <th>5</th>\n",
       "      <td>0.369217</td>\n",
       "      <td>0.982468</td>\n",
       "      <td>0.065609</td>\n",
       "      <td>0.897678</td>\n",
       "      <td>30</td>\n",
       "      <td>0</td>\n",
       "    </tr>\n",
       "    <tr>\n",
       "      <th>6</th>\n",
       "      <td>0.263931</td>\n",
       "      <td>0.574476</td>\n",
       "      <td>0.512866</td>\n",
       "      <td>0.554477</td>\n",
       "      <td>10</td>\n",
       "      <td>0</td>\n",
       "    </tr>\n",
       "    <tr>\n",
       "      <th>7</th>\n",
       "      <td>0.647167</td>\n",
       "      <td>0.185474</td>\n",
       "      <td>0.271978</td>\n",
       "      <td>0.148439</td>\n",
       "      <td>10</td>\n",
       "      <td>1</td>\n",
       "    </tr>\n",
       "    <tr>\n",
       "      <th>8</th>\n",
       "      <td>0.030304</td>\n",
       "      <td>0.939256</td>\n",
       "      <td>0.346754</td>\n",
       "      <td>0.109565</td>\n",
       "      <td>30</td>\n",
       "      <td>1</td>\n",
       "    </tr>\n",
       "    <tr>\n",
       "      <th>9</th>\n",
       "      <td>0.378327</td>\n",
       "      <td>0.384079</td>\n",
       "      <td>0.665424</td>\n",
       "      <td>0.244491</td>\n",
       "      <td>30</td>\n",
       "      <td>1</td>\n",
       "    </tr>\n",
       "  </tbody>\n",
       "</table>\n",
       "</div>"
      ],
      "text/plain": [
       "      150um     250um     350um     500um  long  Evolution\n",
       "0  0.970551  0.395795  0.798745  0.635088    10          0\n",
       "1  0.229969  0.051207  0.028464  0.122848    10          1\n",
       "2  0.220213  0.829023  0.285492  0.781064    30          0\n",
       "3  0.504666  0.138449  0.778037  0.921332    10          1\n",
       "4  0.943019  0.704436  0.693916  0.546552    30          0\n",
       "5  0.369217  0.982468  0.065609  0.897678    30          0\n",
       "6  0.263931  0.574476  0.512866  0.554477    10          0\n",
       "7  0.647167  0.185474  0.271978  0.148439    10          1\n",
       "8  0.030304  0.939256  0.346754  0.109565    30          1\n",
       "9  0.378327  0.384079  0.665424  0.244491    30          1"
      ]
     },
     "execution_count": 33,
     "metadata": {},
     "output_type": "execute_result"
    }
   ],
   "source": [
    "new_df['long'] = [10,10,30,10,30,30,10,10,30,30]\n",
    "new_df['Evolution'] = [0,1,0,1,0,0,0,1,1,1]\n",
    "new_df"
   ]
  },
  {
   "cell_type": "code",
   "execution_count": 36,
   "metadata": {
    "scrolled": true
   },
   "outputs": [
    {
     "data": {
      "text/html": [
       "<div>\n",
       "<style scoped>\n",
       "    .dataframe tbody tr th:only-of-type {\n",
       "        vertical-align: middle;\n",
       "    }\n",
       "\n",
       "    .dataframe tbody tr th {\n",
       "        vertical-align: top;\n",
       "    }\n",
       "\n",
       "    .dataframe thead th {\n",
       "        text-align: right;\n",
       "    }\n",
       "</style>\n",
       "<table border=\"1\" class=\"dataframe\">\n",
       "  <thead>\n",
       "    <tr style=\"text-align: right;\">\n",
       "      <th></th>\n",
       "      <th>150um</th>\n",
       "      <th>250um</th>\n",
       "      <th>350um</th>\n",
       "      <th>500um</th>\n",
       "      <th>Evolution</th>\n",
       "    </tr>\n",
       "    <tr>\n",
       "      <th>long</th>\n",
       "      <th></th>\n",
       "      <th></th>\n",
       "      <th></th>\n",
       "      <th></th>\n",
       "      <th></th>\n",
       "    </tr>\n",
       "  </thead>\n",
       "  <tbody>\n",
       "    <tr>\n",
       "      <th>10</th>\n",
       "      <td>0.523257</td>\n",
       "      <td>0.269080</td>\n",
       "      <td>0.478018</td>\n",
       "      <td>0.476437</td>\n",
       "      <td>0.6</td>\n",
       "    </tr>\n",
       "    <tr>\n",
       "      <th>30</th>\n",
       "      <td>0.388216</td>\n",
       "      <td>0.767852</td>\n",
       "      <td>0.411439</td>\n",
       "      <td>0.515870</td>\n",
       "      <td>0.4</td>\n",
       "    </tr>\n",
       "  </tbody>\n",
       "</table>\n",
       "</div>"
      ],
      "text/plain": [
       "         150um     250um     350um     500um  Evolution\n",
       "long                                                   \n",
       "10    0.523257  0.269080  0.478018  0.476437        0.6\n",
       "30    0.388216  0.767852  0.411439  0.515870        0.4"
      ]
     },
     "execution_count": 36,
     "metadata": {},
     "output_type": "execute_result"
    }
   ],
   "source": [
    "new_df.groupby('long').mean()"
   ]
  },
  {
   "cell_type": "code",
   "execution_count": 37,
   "metadata": {},
   "outputs": [
    {
     "data": {
      "text/html": [
       "<div>\n",
       "<style scoped>\n",
       "    .dataframe tbody tr th:only-of-type {\n",
       "        vertical-align: middle;\n",
       "    }\n",
       "\n",
       "    .dataframe tbody tr th {\n",
       "        vertical-align: top;\n",
       "    }\n",
       "\n",
       "    .dataframe thead th {\n",
       "        text-align: right;\n",
       "    }\n",
       "</style>\n",
       "<table border=\"1\" class=\"dataframe\">\n",
       "  <thead>\n",
       "    <tr style=\"text-align: right;\">\n",
       "      <th></th>\n",
       "      <th>150um</th>\n",
       "      <th>250um</th>\n",
       "      <th>350um</th>\n",
       "      <th>500um</th>\n",
       "      <th>Evolution</th>\n",
       "    </tr>\n",
       "    <tr>\n",
       "      <th>long</th>\n",
       "      <th></th>\n",
       "      <th></th>\n",
       "      <th></th>\n",
       "      <th></th>\n",
       "      <th></th>\n",
       "    </tr>\n",
       "  </thead>\n",
       "  <tbody>\n",
       "    <tr>\n",
       "      <th>10</th>\n",
       "      <td>0.303743</td>\n",
       "      <td>0.212630</td>\n",
       "      <td>0.331151</td>\n",
       "      <td>0.339779</td>\n",
       "      <td>0.547723</td>\n",
       "    </tr>\n",
       "    <tr>\n",
       "      <th>30</th>\n",
       "      <td>0.340804</td>\n",
       "      <td>0.240044</td>\n",
       "      <td>0.266433</td>\n",
       "      <td>0.337556</td>\n",
       "      <td>0.547723</td>\n",
       "    </tr>\n",
       "  </tbody>\n",
       "</table>\n",
       "</div>"
      ],
      "text/plain": [
       "         150um     250um     350um     500um  Evolution\n",
       "long                                                   \n",
       "10    0.303743  0.212630  0.331151  0.339779   0.547723\n",
       "30    0.340804  0.240044  0.266433  0.337556   0.547723"
      ]
     },
     "execution_count": 37,
     "metadata": {},
     "output_type": "execute_result"
    }
   ],
   "source": [
    "new_df.groupby('long').std()"
   ]
  },
  {
   "cell_type": "code",
   "execution_count": 38,
   "metadata": {},
   "outputs": [
    {
     "data": {
      "text/html": [
       "<div>\n",
       "<style scoped>\n",
       "    .dataframe tbody tr th:only-of-type {\n",
       "        vertical-align: middle;\n",
       "    }\n",
       "\n",
       "    .dataframe tbody tr th {\n",
       "        vertical-align: top;\n",
       "    }\n",
       "\n",
       "    .dataframe thead th {\n",
       "        text-align: right;\n",
       "    }\n",
       "</style>\n",
       "<table border=\"1\" class=\"dataframe\">\n",
       "  <thead>\n",
       "    <tr style=\"text-align: right;\">\n",
       "      <th></th>\n",
       "      <th>150um</th>\n",
       "      <th>250um</th>\n",
       "      <th>350um</th>\n",
       "      <th>500um</th>\n",
       "      <th>Evolution</th>\n",
       "    </tr>\n",
       "    <tr>\n",
       "      <th>long</th>\n",
       "      <th></th>\n",
       "      <th></th>\n",
       "      <th></th>\n",
       "      <th></th>\n",
       "      <th></th>\n",
       "    </tr>\n",
       "  </thead>\n",
       "  <tbody>\n",
       "    <tr>\n",
       "      <th>10</th>\n",
       "      <td>2.616284</td>\n",
       "      <td>1.345401</td>\n",
       "      <td>2.390090</td>\n",
       "      <td>2.382183</td>\n",
       "      <td>3</td>\n",
       "    </tr>\n",
       "    <tr>\n",
       "      <th>30</th>\n",
       "      <td>1.941080</td>\n",
       "      <td>3.839261</td>\n",
       "      <td>2.057195</td>\n",
       "      <td>2.579350</td>\n",
       "      <td>2</td>\n",
       "    </tr>\n",
       "  </tbody>\n",
       "</table>\n",
       "</div>"
      ],
      "text/plain": [
       "         150um     250um     350um     500um  Evolution\n",
       "long                                                   \n",
       "10    2.616284  1.345401  2.390090  2.382183          3\n",
       "30    1.941080  3.839261  2.057195  2.579350          2"
      ]
     },
     "execution_count": 38,
     "metadata": {},
     "output_type": "execute_result"
    }
   ],
   "source": [
    "new_df.groupby('long').sum()"
   ]
  },
  {
   "cell_type": "code",
   "execution_count": 39,
   "metadata": {},
   "outputs": [
    {
     "data": {
      "text/html": [
       "<div>\n",
       "<style scoped>\n",
       "    .dataframe tbody tr th:only-of-type {\n",
       "        vertical-align: middle;\n",
       "    }\n",
       "\n",
       "    .dataframe tbody tr th {\n",
       "        vertical-align: top;\n",
       "    }\n",
       "\n",
       "    .dataframe thead tr th {\n",
       "        text-align: left;\n",
       "    }\n",
       "\n",
       "    .dataframe thead tr:last-of-type th {\n",
       "        text-align: right;\n",
       "    }\n",
       "</style>\n",
       "<table border=\"1\" class=\"dataframe\">\n",
       "  <thead>\n",
       "    <tr>\n",
       "      <th></th>\n",
       "      <th colspan=\"8\" halign=\"left\">150um</th>\n",
       "      <th colspan=\"2\" halign=\"left\">250um</th>\n",
       "      <th>...</th>\n",
       "      <th colspan=\"2\" halign=\"left\">500um</th>\n",
       "      <th colspan=\"8\" halign=\"left\">Evolution</th>\n",
       "    </tr>\n",
       "    <tr>\n",
       "      <th></th>\n",
       "      <th>count</th>\n",
       "      <th>mean</th>\n",
       "      <th>std</th>\n",
       "      <th>min</th>\n",
       "      <th>25%</th>\n",
       "      <th>50%</th>\n",
       "      <th>75%</th>\n",
       "      <th>max</th>\n",
       "      <th>count</th>\n",
       "      <th>mean</th>\n",
       "      <th>...</th>\n",
       "      <th>75%</th>\n",
       "      <th>max</th>\n",
       "      <th>count</th>\n",
       "      <th>mean</th>\n",
       "      <th>std</th>\n",
       "      <th>min</th>\n",
       "      <th>25%</th>\n",
       "      <th>50%</th>\n",
       "      <th>75%</th>\n",
       "      <th>max</th>\n",
       "    </tr>\n",
       "    <tr>\n",
       "      <th>long</th>\n",
       "      <th></th>\n",
       "      <th></th>\n",
       "      <th></th>\n",
       "      <th></th>\n",
       "      <th></th>\n",
       "      <th></th>\n",
       "      <th></th>\n",
       "      <th></th>\n",
       "      <th></th>\n",
       "      <th></th>\n",
       "      <th></th>\n",
       "      <th></th>\n",
       "      <th></th>\n",
       "      <th></th>\n",
       "      <th></th>\n",
       "      <th></th>\n",
       "      <th></th>\n",
       "      <th></th>\n",
       "      <th></th>\n",
       "      <th></th>\n",
       "      <th></th>\n",
       "    </tr>\n",
       "  </thead>\n",
       "  <tbody>\n",
       "    <tr>\n",
       "      <th>10</th>\n",
       "      <td>5.0</td>\n",
       "      <td>0.523257</td>\n",
       "      <td>0.303743</td>\n",
       "      <td>0.229969</td>\n",
       "      <td>0.263931</td>\n",
       "      <td>0.504666</td>\n",
       "      <td>0.647167</td>\n",
       "      <td>0.970551</td>\n",
       "      <td>5.0</td>\n",
       "      <td>0.269080</td>\n",
       "      <td>...</td>\n",
       "      <td>0.635088</td>\n",
       "      <td>0.921332</td>\n",
       "      <td>5.0</td>\n",
       "      <td>0.6</td>\n",
       "      <td>0.547723</td>\n",
       "      <td>0.0</td>\n",
       "      <td>0.0</td>\n",
       "      <td>1.0</td>\n",
       "      <td>1.0</td>\n",
       "      <td>1.0</td>\n",
       "    </tr>\n",
       "    <tr>\n",
       "      <th>30</th>\n",
       "      <td>5.0</td>\n",
       "      <td>0.388216</td>\n",
       "      <td>0.340804</td>\n",
       "      <td>0.030304</td>\n",
       "      <td>0.220213</td>\n",
       "      <td>0.369217</td>\n",
       "      <td>0.378327</td>\n",
       "      <td>0.943019</td>\n",
       "      <td>5.0</td>\n",
       "      <td>0.767852</td>\n",
       "      <td>...</td>\n",
       "      <td>0.781064</td>\n",
       "      <td>0.897678</td>\n",
       "      <td>5.0</td>\n",
       "      <td>0.4</td>\n",
       "      <td>0.547723</td>\n",
       "      <td>0.0</td>\n",
       "      <td>0.0</td>\n",
       "      <td>0.0</td>\n",
       "      <td>1.0</td>\n",
       "      <td>1.0</td>\n",
       "    </tr>\n",
       "  </tbody>\n",
       "</table>\n",
       "<p>2 rows × 40 columns</p>\n",
       "</div>"
      ],
      "text/plain": [
       "     150um                                                              \\\n",
       "     count      mean       std       min       25%       50%       75%   \n",
       "long                                                                     \n",
       "10     5.0  0.523257  0.303743  0.229969  0.263931  0.504666  0.647167   \n",
       "30     5.0  0.388216  0.340804  0.030304  0.220213  0.369217  0.378327   \n",
       "\n",
       "               250um            ...     500um           Evolution       \\\n",
       "           max count      mean  ...       75%       max     count mean   \n",
       "long                            ...                                      \n",
       "10    0.970551   5.0  0.269080  ...  0.635088  0.921332       5.0  0.6   \n",
       "30    0.943019   5.0  0.767852  ...  0.781064  0.897678       5.0  0.4   \n",
       "\n",
       "                                         \n",
       "           std  min  25%  50%  75%  max  \n",
       "long                                     \n",
       "10    0.547723  0.0  0.0  1.0  1.0  1.0  \n",
       "30    0.547723  0.0  0.0  0.0  1.0  1.0  \n",
       "\n",
       "[2 rows x 40 columns]"
      ]
     },
     "execution_count": 39,
     "metadata": {},
     "output_type": "execute_result"
    }
   ],
   "source": [
    "new_df.groupby('long').describe()"
   ]
  },
  {
   "cell_type": "code",
   "execution_count": 41,
   "metadata": {
    "scrolled": true
   },
   "outputs": [
    {
     "data": {
      "text/html": [
       "<div>\n",
       "<style scoped>\n",
       "    .dataframe tbody tr th:only-of-type {\n",
       "        vertical-align: middle;\n",
       "    }\n",
       "\n",
       "    .dataframe tbody tr th {\n",
       "        vertical-align: top;\n",
       "    }\n",
       "\n",
       "    .dataframe thead th {\n",
       "        text-align: right;\n",
       "    }\n",
       "</style>\n",
       "<table border=\"1\" class=\"dataframe\">\n",
       "  <thead>\n",
       "    <tr style=\"text-align: right;\">\n",
       "      <th></th>\n",
       "      <th>150um</th>\n",
       "      <th>250um</th>\n",
       "      <th>350um</th>\n",
       "      <th>500um</th>\n",
       "      <th>Evolution</th>\n",
       "    </tr>\n",
       "    <tr>\n",
       "      <th>long</th>\n",
       "      <th></th>\n",
       "      <th></th>\n",
       "      <th></th>\n",
       "      <th></th>\n",
       "      <th></th>\n",
       "    </tr>\n",
       "  </thead>\n",
       "  <tbody>\n",
       "    <tr>\n",
       "      <th>10</th>\n",
       "      <td>5</td>\n",
       "      <td>5</td>\n",
       "      <td>5</td>\n",
       "      <td>5</td>\n",
       "      <td>5</td>\n",
       "    </tr>\n",
       "    <tr>\n",
       "      <th>30</th>\n",
       "      <td>5</td>\n",
       "      <td>5</td>\n",
       "      <td>5</td>\n",
       "      <td>5</td>\n",
       "      <td>5</td>\n",
       "    </tr>\n",
       "  </tbody>\n",
       "</table>\n",
       "</div>"
      ],
      "text/plain": [
       "      150um  250um  350um  500um  Evolution\n",
       "long                                       \n",
       "10        5      5      5      5          5\n",
       "30        5      5      5      5          5"
      ]
     },
     "execution_count": 41,
     "metadata": {},
     "output_type": "execute_result"
    }
   ],
   "source": [
    "new_df.groupby('long').count()"
   ]
  },
  {
   "cell_type": "code",
   "execution_count": 42,
   "metadata": {
    "scrolled": true
   },
   "outputs": [
    {
     "data": {
      "text/plain": [
       "'/Users/Dallas/Git/P4900-DataScience/Practise'"
      ]
     },
     "execution_count": 42,
     "metadata": {},
     "output_type": "execute_result"
    }
   ],
   "source": [
    "pwd"
   ]
  },
  {
   "cell_type": "code",
   "execution_count": 3,
   "metadata": {},
   "outputs": [],
   "source": [
    "import matplotlib.pyplot as plt\n",
    "import numpy as np"
   ]
  },
  {
   "cell_type": "code",
   "execution_count": 18,
   "metadata": {},
   "outputs": [
    {
     "data": {
      "text/plain": [
       "<matplotlib.legend.Legend at 0x7f8d284a9df0>"
      ]
     },
     "execution_count": 18,
     "metadata": {},
     "output_type": "execute_result"
    },
    {
     "data": {
      "image/png": "[encoded data removed]",
      "text/plain": [
       "<Figure size 432x288 with 1 Axes>"
      ]
     },
     "metadata": {
      "needs_background": "light"
     },
     "output_type": "display_data"
    }
   ],
   "source": [
    "fig = plt.figure()\n",
    "ax1 = fig.add_axes([0,0,1,1])\n",
    "\n",
    "#ax2 = fig.add_axes([0.1,0.3,0.3,0.8])\n",
    "x = np.linspace(0,10,100)\n",
    "\n",
    "ax1.plot(x,x**2)\n",
    "ax1.plot(x,x**0.5)\n",
    "ax1.legend(('x^2', 'x.5'))"
   ]
  },
  {
   "cell_type": "code",
   "execution_count": null,
   "metadata": {},
   "outputs": [],
   "source": []
  }
 ],
 "metadata": {
  "kernelspec": {
   "display_name": "Python 3",
   "language": "python",
   "name": "python3"
  },
  "language_info": {
   "codemirror_mode": {
    "name": "ipython",
    "version": 3
   },
   "file_extension": ".py",
   "mimetype": "text/x-python",
   "name": "python",
   "nbconvert_exporter": "python",
   "pygments_lexer": "ipython3",
   "version": "3.8.5"
  }
 },
 "nbformat": 4,
 "nbformat_minor": 4
}
